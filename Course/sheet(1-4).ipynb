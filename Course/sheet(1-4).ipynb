{
 "cells": [
  {
   "cell_type": "markdown",
   "id": "7bf65e0b",
   "metadata": {},
   "source": [
    "Basics of Python Programming\n"
   ]
  },
  {
   "cell_type": "markdown",
   "id": "9e29c7ca",
   "metadata": {},
   "source": [
    "Program\n",
    "\n",
    "It is  a set a of instructions which are passed to the computer to perform a set of work majorly\n",
    "a.handle the voulme of data in proper data types\n",
    "b.set of procedures to be done on that data to get desired output."
   ]
  },
  {
   "cell_type": "code",
   "execution_count": 8,
   "id": "93228910",
   "metadata": {},
   "outputs": [
    {
     "name": "stdout",
     "output_type": "stream",
     "text": [
      "Area is 2875\n"
     ]
    }
   ],
   "source": [
    "l=115\n",
    "b=25\n",
    "area=l*b\n",
    "print(\"Area is\",area)"
   ]
  },
  {
   "cell_type": "code",
   "execution_count": 9,
   "id": "076237ea",
   "metadata": {},
   "outputs": [
    {
     "name": "stdout",
     "output_type": "stream",
     "text": [
      "Bill Amount 59\n"
     ]
    }
   ],
   "source": [
    "prices=[10,7,8,5,6]\n",
    "quantity=[1,2,3,1,1]\n",
    "total=0\n",
    "for i in range(len(prices)):\n",
    "  total=total+prices[i]*quantity[i]\n",
    "print(\"Bill Amount\",total)"
   ]
  },
  {
   "cell_type": "code",
   "execution_count": 10,
   "id": "59fd5bdb",
   "metadata": {},
   "outputs": [
    {
     "name": "stdout",
     "output_type": "stream",
     "text": [
      "soap 12.5 5\n"
     ]
    }
   ],
   "source": [
    "name,price,qty='soap',12.50,5\n",
    "print(name,price,qty)"
   ]
  },
  {
   "cell_type": "markdown",
   "id": "bc8b2768",
   "metadata": {},
   "source": [
    "Declaration and Initialization\n",
    "\n",
    "length=15\n",
    "\n",
    "length is Declaration\n",
    "and 15 is Initialization\n",
    "\n",
    "in python both are done simultaneously\n",
    "here [\"=\"] refers as 'Assignment' the value 15 is stored in the variable  length."
   ]
  },
  {
   "cell_type": "markdown",
   "id": "fed432fc",
   "metadata": {},
   "source": [
    "Multiple Declarations\n",
    "\n",
    "In python we camn declare multiple variables in a single line with different data types and all the variable will refre to the data in the order they are declared.\n",
    "ex:\n",
    "name,price,qty='soap',12.50,5\n",
    "\n",
    "name->'soap'[String]  price->12.50[Float]  qty->5[Integer]\n",
    "\n",
    "ex:\n",
    "a,b,c=1,1,1 or a=b=c=1\n",
    "\n",
    "here in this case python will not create three separete memory alolocations it will store the value in a memory loaction.\n",
    "and all the three variables will the same memory loaction .\n",
    "a->b->c->1"
   ]
  },
  {
   "cell_type": "code",
   "execution_count": 11,
   "id": "dd4359e6",
   "metadata": {},
   "outputs": [
    {
     "name": "stdout",
     "output_type": "stream",
     "text": [
      "4396444320 4396444320 4396444320\n"
     ]
    }
   ],
   "source": [
    "a,b,c=1,1,1\n",
    "print(id(a),id(b),id(c))"
   ]
  },
  {
   "cell_type": "markdown",
   "id": "99856eea",
   "metadata": {},
   "source": [
    "#here they are refering to the same memory location so id is same for all the 3 variables."
   ]
  },
  {
   "cell_type": "markdown",
   "id": "f5a0bffa",
   "metadata": {},
   "source": [
    "Memory\n",
    "\n",
    "variables occupy Memory\n",
    "\n",
    "so you can say that variable name is the name given to the Memory location where data is stored.\n",
    "ex:\n",
    "length=15\n",
    "variable location name is length and data is 15\n",
    "\n",
    "or\n",
    "\n",
    "[In python its better to visualize in the below manner]\n",
    "we can say the data is stored in some part of Memory and variable is refering to that location in memory for the data.\n"
   ]
  },
  {
   "cell_type": "markdown",
   "id": "b9972d29",
   "metadata": {},
   "source": [
    "statically typed language\n",
    "\n",
    "C , C++ , Java are statically typed languages\n",
    "\n",
    "statically typed languages allow you declare a variable along with data type which dwefines the type of data it will store in that.\n",
    "\n",
    "ex:\n",
    "int a=15; float b =12.75 ; char c='A';\n",
    "\n",
    "Dynamically typed language.\n",
    "\n",
    "python and Javascript are Dynamically typed languages.\n",
    "the type of data is defined by the value asisgned to it."
   ]
  },
  {
   "cell_type": "code",
   "execution_count": 12,
   "id": "f9488eac",
   "metadata": {},
   "outputs": [
    {
     "name": "stdout",
     "output_type": "stream",
     "text": [
      "15 <class 'int'>\n",
      "10.6 <class 'float'>\n",
      "hello <class 'str'>\n",
      "[1, 2, 3, 4, 5, 6] <class 'list'>\n"
     ]
    }
   ],
   "source": [
    "a=15 \n",
    "b=10.6 \n",
    "c='hello'\n",
    "d=[1,2,3,4,5,6]\n",
    "print(a,type(a))\n",
    "print(b,type(b))\n",
    "print(c,type(c))\n",
    "print(d,type(d))"
   ]
  },
  {
   "cell_type": "markdown",
   "id": "da14c030",
   "metadata": {},
   "source": [
    "Variables\n",
    "\n",
    "variables are names given to the data\n",
    "variable can be a scalar value ex: l=15\n",
    "variable can be a vector value or list of values ex: p=[10,8,7,6.5]"
   ]
  },
  {
   "cell_type": "markdown",
   "id": "9a85b66a",
   "metadata": {},
   "source": [
    "Rules for variable names.\n",
    "\n",
    "1.should be meaningful.(prod_id=153  price=23.7   cust_name='smith')\n",
    "2.Alphanumeric and underrscore.(var names can have aplhabets,numbers & underscore)\n",
    "3.must Start with letter or underrscore.\n",
    "4.keyword/reserved words cannot be used as variable names.(ex:none)\n",
    "\n",
    "there are some words which are predefined by the programming languages are called as  keywords/reserved words\n",
    "the words which are defined by the user are called as identifiers.\n",
    "\n",
    "Keywords:-\n",
    "None,break,except,in,raise,False,await,else,import,pass,and,continue,for,lambda,try,True,class,Finally,is,return,\n",
    "as,def,from,nonlocal,while,async,elif,if,not,with,assert,del,global,or,yield\n",
    "\n",
    "5.case sensitive."
   ]
  },
  {
   "cell_type": "code",
   "execution_count": 15,
   "id": "4d7588f6",
   "metadata": {},
   "outputs": [
    {
     "name": "stdout",
     "output_type": "stream",
     "text": [
      "10\n"
     ]
    },
    {
     "data": {
      "text/plain": [
       "'\\nCell In[14], line 4\\n    1a=5\\n    ^\\nSyntaxError: invalid decimal literal\\n'"
      ]
     },
     "execution_count": 15,
     "metadata": {},
     "output_type": "execute_result"
    }
   ],
   "source": [
    "a1=10\n",
    "print(a1)\n",
    "\n",
    "#1a=5\n",
    "#print(1a)\n",
    "\"\"\"\n",
    "Cell In[14], line 4\n",
    "    1a=5\n",
    "    ^\n",
    "SyntaxError: invalid decimal literal\n",
    "\"\"\""
   ]
  },
  {
   "cell_type": "code",
   "execution_count": 21,
   "id": "8b2f6819",
   "metadata": {},
   "outputs": [
    {
     "name": "stdout",
     "output_type": "stream",
     "text": [
      "10\n",
      "10\n",
      "no\n"
     ]
    }
   ],
   "source": [
    "abc123mnp=10\n",
    "print(abc123mnp)\n",
    "\n",
    "abc_def=10\n",
    "print(abc_def)\n",
    "\n",
    "\"\"\"\n",
    "False='no'\n",
    "print(False)\n",
    "\n",
    "Cell In[19], line 7\n",
    "    False='no'\n",
    "    ^\n",
    "SyntaxError: cannot assign to False\n",
    "\"\"\"\n",
    "\n",
    "false='no'\n",
    "print(false)\n"
   ]
  },
  {
   "cell_type": "markdown",
   "id": "0bb4721c",
   "metadata": {},
   "source": [
    "Data Types in Python"
   ]
  },
  {
   "cell_type": "markdown",
   "id": "cdb38706",
   "metadata": {},
   "source": [
    "1.Numeric:\n",
    "int,float,bool,complex\n",
    "\n",
    "2.Sequence:\n",
    "list,tuple,string\n",
    "\n",
    "3.Set:\n",
    "set\n",
    "\n",
    "4.Dictionary:\n",
    "dict\n",
    "\n"
   ]
  },
  {
   "cell_type": "markdown",
   "id": "ebc4fb60",
   "metadata": {},
   "source": [
    "1.Numeric Data Types:\n",
    "\n",
    "these data types store scalar values.(Single valued type)\n",
    "\n",
    "\n",
    "Types of Data \n",
    "\n",
    "a.Integer\n",
    "A number value without a decimal point or integral value.\n",
    "ex: l=15\n",
    "\n",
    "b.Float\n",
    "A number with decimal point is a float data type or floating point number.\n",
    "ex: p=12.75\n",
    "\n",
    "c.bool\n",
    "Boolean or bool means True or False\n",
    "b=True/False\n",
    "\n",
    "we can also use 1 for True and 0 for False\n",
    "\n",
    "d.complex\n",
    "python supports complex numbers.\n",
    "ex:\n",
    "c=7+i9\n",
    "7 is real part and i9 is imaginary part."
   ]
  },
  {
   "cell_type": "markdown",
   "id": "96ea56a1",
   "metadata": {},
   "source": [
    "2.Sequence Data Types\n",
    "\n",
    "these data types supports collection of values.\n",
    "these data types are \"index based\" we can access the data from the index.\n",
    "\n",
    "a.list\n",
    "\n",
    "we declare a list variable by using square brackets and values inside a list are separetd by commas.we can store a collection of data of mixed data types.we can store any kind of data in a list such as int,float,string\n",
    "ex:\n",
    "l=[1,2,3,4,5,6]\n",
    "\n",
    "index starts from zero onwards\n",
    "I-->indexes   & P-->position in the list\n",
    "I   P\n",
    "0-->1\n",
    "1-->2\n",
    "2-->3\n",
    "3-->4\n",
    "4-->5\n",
    "5-->6\n",
    "\n",
    "list data type is \"mutable\".\n",
    "\n",
    "That means if we want to \"change/add/remove\" a value in a list we can change them by the help of their index.\n",
    "\n",
    "b.Tuple\n",
    "\n",
    "we declare a tuple by using paranthesis () .\n",
    "it is index based starting from zero.\n",
    "here also we can store any type of data inside a tuple .\n",
    "\n",
    "Major difference is Tuple is immutable. i.e we cannot change the values.\n",
    "t=(1,2,3,4,5)\n",
    "\n",
    "c.String\n",
    "\n",
    "ex:s='John'\n",
    "\n",
    "string is also index based same as list and tuple.\n",
    "\n",
    "string is immutable.\n",
    "\n",
    "a group of characters inside a pair of single quations  is a string data type."
   ]
  },
  {
   "cell_type": "markdown",
   "id": "81a6812c",
   "metadata": {},
   "source": [
    "3.Set\n",
    "\n",
    "here we can store collection of values or vector values.\n",
    "\n",
    "the difference here from above is that the data will not have index.\n",
    "\n",
    "here the data which we are giving there is no certainity that it will be stord in the same order.\n",
    "so thats why it is 'unordered'.\n",
    "\n",
    "It conatins only unique values.(Distinct Values).\n",
    "\n",
    "to declare a set in python.\n",
    "\n",
    "s={3,6,7,8,9}\n",
    "\n",
    "Here we use curly brackets.{}.\n",
    "\n",
    "we cannot have duplicate values in a set.\n",
    "It is mutable.\n",
    "we can add/remove a value but we cannot modify the existing value.\n",
    "they will not be stored in the same order in memory as declared.\n"
   ]
  },
  {
   "cell_type": "markdown",
   "id": "602ace46",
   "metadata": {},
   "source": [
    "4.Dictioanry\n",
    "\n",
    "dict\n",
    "\n",
    "this allows a collection of key value pairs.\n",
    "\n",
    "here the keys will be unique but values can be duplicate.\n",
    "\n",
    "d={name:'John',roll:126,dept:'cse'}\n",
    "\n",
    "it is ordered data type.\n",
    "\n",
    "it is mutable.\n"
   ]
  },
  {
   "cell_type": "code",
   "execution_count": null,
   "id": "e0667488",
   "metadata": {},
   "outputs": [],
   "source": []
  }
 ],
 "metadata": {
  "kernelspec": {
   "display_name": ".venv",
   "language": "python",
   "name": "python3"
  },
  "language_info": {
   "codemirror_mode": {
    "name": "ipython",
    "version": 3
   },
   "file_extension": ".py",
   "mimetype": "text/x-python",
   "name": "python",
   "nbconvert_exporter": "python",
   "pygments_lexer": "ipython3",
   "version": "3.13.0"
  }
 },
 "nbformat": 4,
 "nbformat_minor": 5
}
